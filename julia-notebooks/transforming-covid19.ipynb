{
 "cells": [
  {
   "cell_type": "markdown",
   "metadata": {},
   "source": [
    "---\n",
    "\n",
    "title: \"Transforming COVID-19 Data\"\n",
    "\n",
    "summary: \"Before data frames can be visualized, analyzed, and modelled, it will need to be clearly represented as observations and features.\"\n",
    "\n",
    "image: https://www.michaelmallari.com/img/og-covid19.tiff\n",
    "\n",
    "language: Julia\n",
    "\n",
    "date: 2020-06-27\n",
    "\n",
    "categories: []\n",
    "\n",
    "tags: []\n",
    "\n",
    "---"
   ]
  },
  {
   "cell_type": "markdown",
   "metadata": {},
   "source": []
  },
  {
   "cell_type": "code",
   "execution_count": 8,
   "metadata": {},
   "outputs": [],
   "source": [
    "import Pkg"
   ]
  },
  {
   "cell_type": "code",
   "execution_count": 9,
   "metadata": {},
   "outputs": [
    {
     "name": "stderr",
     "output_type": "stream",
     "text": [
      "\u001b[32m\u001b[1m  Resolving\u001b[22m\u001b[39m package versions...\n",
      "\u001b[32m\u001b[1m   Updating\u001b[22m\u001b[39m `~/.julia/environments/v1.4/Project.toml`\n",
      "\u001b[90m [no changes]\u001b[39m\n",
      "\u001b[32m\u001b[1m   Updating\u001b[22m\u001b[39m `~/.julia/environments/v1.4/Manifest.toml`\n",
      "\u001b[90m [no changes]\u001b[39m\n"
     ]
    }
   ],
   "source": [
    "Pkg.add(\"CSV\")\n",
    "using CSV\n",
    "covid19_us_confirmed = CSV.read(\"dataset/time_series_covid19_confirmed_US_20200629.csv\");\n",
    "covid19_us_deaths = CSV.read(\"dataset/time_series_covid19_deaths_US_20200629.csv\");"
   ]
  },
  {
   "cell_type": "code",
   "execution_count": 10,
   "metadata": {},
   "outputs": [
    {
     "data": {
      "text/html": [
       "<table class=\"data-frame\"><thead><tr><th></th><th>UID</th><th>iso2</th><th>iso3</th><th>code3</th><th>FIPS</th><th>Admin2</th><th>Province_State</th><th>Country_Region</th></tr><tr><th></th><th>Int64</th><th>String</th><th>String</th><th>Int64</th><th>Float64?</th><th>String?</th><th>String</th><th>String</th></tr></thead><tbody><p>10 rows × 170 columns (omitted printing of 162 columns)</p><tr><th>1</th><td>16</td><td>AS</td><td>ASM</td><td>16</td><td>60.0</td><td><em>missing</em></td><td>American Samoa</td><td>US</td></tr><tr><th>2</th><td>316</td><td>GU</td><td>GUM</td><td>316</td><td>66.0</td><td><em>missing</em></td><td>Guam</td><td>US</td></tr><tr><th>3</th><td>580</td><td>MP</td><td>MNP</td><td>580</td><td>69.0</td><td><em>missing</em></td><td>Northern Mariana Islands</td><td>US</td></tr><tr><th>4</th><td>630</td><td>PR</td><td>PRI</td><td>630</td><td>72.0</td><td><em>missing</em></td><td>Puerto Rico</td><td>US</td></tr><tr><th>5</th><td>850</td><td>VI</td><td>VIR</td><td>850</td><td>78.0</td><td><em>missing</em></td><td>Virgin Islands</td><td>US</td></tr><tr><th>6</th><td>84001001</td><td>US</td><td>USA</td><td>840</td><td>1001.0</td><td>Autauga</td><td>Alabama</td><td>US</td></tr><tr><th>7</th><td>84001003</td><td>US</td><td>USA</td><td>840</td><td>1003.0</td><td>Baldwin</td><td>Alabama</td><td>US</td></tr><tr><th>8</th><td>84001005</td><td>US</td><td>USA</td><td>840</td><td>1005.0</td><td>Barbour</td><td>Alabama</td><td>US</td></tr><tr><th>9</th><td>84001007</td><td>US</td><td>USA</td><td>840</td><td>1007.0</td><td>Bibb</td><td>Alabama</td><td>US</td></tr><tr><th>10</th><td>84001009</td><td>US</td><td>USA</td><td>840</td><td>1009.0</td><td>Blount</td><td>Alabama</td><td>US</td></tr></tbody></table>"
      ],
      "text/latex": [
       "\\begin{tabular}{r|ccccccccc}\n",
       "\t& UID & iso2 & iso3 & code3 & FIPS & Admin2 & Province\\_State & Country\\_Region & \\\\\n",
       "\t\\hline\n",
       "\t& Int64 & String & String & Int64 & Float64? & String? & String & String & \\\\\n",
       "\t\\hline\n",
       "\t1 & 16 & AS & ASM & 16 & 60.0 & \\emph{missing} & American Samoa & US & $\\dots$ \\\\\n",
       "\t2 & 316 & GU & GUM & 316 & 66.0 & \\emph{missing} & Guam & US & $\\dots$ \\\\\n",
       "\t3 & 580 & MP & MNP & 580 & 69.0 & \\emph{missing} & Northern Mariana Islands & US & $\\dots$ \\\\\n",
       "\t4 & 630 & PR & PRI & 630 & 72.0 & \\emph{missing} & Puerto Rico & US & $\\dots$ \\\\\n",
       "\t5 & 850 & VI & VIR & 850 & 78.0 & \\emph{missing} & Virgin Islands & US & $\\dots$ \\\\\n",
       "\t6 & 84001001 & US & USA & 840 & 1001.0 & Autauga & Alabama & US & $\\dots$ \\\\\n",
       "\t7 & 84001003 & US & USA & 840 & 1003.0 & Baldwin & Alabama & US & $\\dots$ \\\\\n",
       "\t8 & 84001005 & US & USA & 840 & 1005.0 & Barbour & Alabama & US & $\\dots$ \\\\\n",
       "\t9 & 84001007 & US & USA & 840 & 1007.0 & Bibb & Alabama & US & $\\dots$ \\\\\n",
       "\t10 & 84001009 & US & USA & 840 & 1009.0 & Blount & Alabama & US & $\\dots$ \\\\\n",
       "\\end{tabular}\n"
      ],
      "text/plain": [
       "10×170 DataFrame. Omitted printing of 164 columns\n",
       "│ Row │ UID      │ iso2   │ iso3   │ code3 │ FIPS     │ Admin2  │\n",
       "│     │ \u001b[90mInt64\u001b[39m    │ \u001b[90mString\u001b[39m │ \u001b[90mString\u001b[39m │ \u001b[90mInt64\u001b[39m │ \u001b[90mFloat64?\u001b[39m │ \u001b[90mString?\u001b[39m │\n",
       "├─────┼──────────┼────────┼────────┼───────┼──────────┼─────────┤\n",
       "│ 1   │ 16       │ AS     │ ASM    │ 16    │ 60.0     │ \u001b[90mmissing\u001b[39m │\n",
       "│ 2   │ 316      │ GU     │ GUM    │ 316   │ 66.0     │ \u001b[90mmissing\u001b[39m │\n",
       "│ 3   │ 580      │ MP     │ MNP    │ 580   │ 69.0     │ \u001b[90mmissing\u001b[39m │\n",
       "│ 4   │ 630      │ PR     │ PRI    │ 630   │ 72.0     │ \u001b[90mmissing\u001b[39m │\n",
       "│ 5   │ 850      │ VI     │ VIR    │ 850   │ 78.0     │ \u001b[90mmissing\u001b[39m │\n",
       "│ 6   │ 84001001 │ US     │ USA    │ 840   │ 1001.0   │ Autauga │\n",
       "│ 7   │ 84001003 │ US     │ USA    │ 840   │ 1003.0   │ Baldwin │\n",
       "│ 8   │ 84001005 │ US     │ USA    │ 840   │ 1005.0   │ Barbour │\n",
       "│ 9   │ 84001007 │ US     │ USA    │ 840   │ 1007.0   │ Bibb    │\n",
       "│ 10  │ 84001009 │ US     │ USA    │ 840   │ 1009.0   │ Blount  │"
      ]
     },
     "execution_count": 10,
     "metadata": {},
     "output_type": "execute_result"
    }
   ],
   "source": [
    "first(covid19_us_confirmed, 10)"
   ]
  },
  {
   "cell_type": "code",
   "execution_count": 11,
   "metadata": {},
   "outputs": [
    {
     "data": {
      "text/html": [
       "<table class=\"data-frame\"><thead><tr><th></th><th>UID</th><th>iso2</th><th>iso3</th><th>code3</th><th>FIPS</th><th>Admin2</th></tr><tr><th></th><th>Int64</th><th>String</th><th>String</th><th>Int64</th><th>Float64?</th><th>String?</th></tr></thead><tbody><p>10 rows × 170 columns (omitted printing of 164 columns)</p><tr><th>1</th><td>84070002</td><td>US</td><td>USA</td><td>840</td><td><em>missing</em></td><td>Dukes and Nantucket</td></tr><tr><th>2</th><td>84070003</td><td>US</td><td>USA</td><td>840</td><td><em>missing</em></td><td>Kansas City</td></tr><tr><th>3</th><td>84070004</td><td>US</td><td>USA</td><td>840</td><td><em>missing</em></td><td>Michigan Department of Corrections (MDOC)</td></tr><tr><th>4</th><td>84070005</td><td>US</td><td>USA</td><td>840</td><td><em>missing</em></td><td>Federal Correctional Institution (FCI)</td></tr><tr><th>5</th><td>84070015</td><td>US</td><td>USA</td><td>840</td><td><em>missing</em></td><td>Bear River</td></tr><tr><th>6</th><td>84070016</td><td>US</td><td>USA</td><td>840</td><td><em>missing</em></td><td>Central Utah</td></tr><tr><th>7</th><td>84070017</td><td>US</td><td>USA</td><td>840</td><td><em>missing</em></td><td>Southeast Utah</td></tr><tr><th>8</th><td>84070018</td><td>US</td><td>USA</td><td>840</td><td><em>missing</em></td><td>Southwest Utah</td></tr><tr><th>9</th><td>84070019</td><td>US</td><td>USA</td><td>840</td><td><em>missing</em></td><td>TriCounty</td></tr><tr><th>10</th><td>84070020</td><td>US</td><td>USA</td><td>840</td><td><em>missing</em></td><td>Weber-Morgan</td></tr></tbody></table>"
      ],
      "text/latex": [
       "\\begin{tabular}{r|ccccccc}\n",
       "\t& UID & iso2 & iso3 & code3 & FIPS & Admin2 & \\\\\n",
       "\t\\hline\n",
       "\t& Int64 & String & String & Int64 & Float64? & String? & \\\\\n",
       "\t\\hline\n",
       "\t1 & 84070002 & US & USA & 840 & \\emph{missing} & Dukes and Nantucket & $\\dots$ \\\\\n",
       "\t2 & 84070003 & US & USA & 840 & \\emph{missing} & Kansas City & $\\dots$ \\\\\n",
       "\t3 & 84070004 & US & USA & 840 & \\emph{missing} & Michigan Department of Corrections (MDOC) & $\\dots$ \\\\\n",
       "\t4 & 84070005 & US & USA & 840 & \\emph{missing} & Federal Correctional Institution (FCI) & $\\dots$ \\\\\n",
       "\t5 & 84070015 & US & USA & 840 & \\emph{missing} & Bear River & $\\dots$ \\\\\n",
       "\t6 & 84070016 & US & USA & 840 & \\emph{missing} & Central Utah & $\\dots$ \\\\\n",
       "\t7 & 84070017 & US & USA & 840 & \\emph{missing} & Southeast Utah & $\\dots$ \\\\\n",
       "\t8 & 84070018 & US & USA & 840 & \\emph{missing} & Southwest Utah & $\\dots$ \\\\\n",
       "\t9 & 84070019 & US & USA & 840 & \\emph{missing} & TriCounty & $\\dots$ \\\\\n",
       "\t10 & 84070020 & US & USA & 840 & \\emph{missing} & Weber-Morgan & $\\dots$ \\\\\n",
       "\\end{tabular}\n"
      ],
      "text/plain": [
       "10×170 DataFrame. Omitted printing of 165 columns\n",
       "│ Row │ UID      │ iso2   │ iso3   │ code3 │ FIPS     │\n",
       "│     │ \u001b[90mInt64\u001b[39m    │ \u001b[90mString\u001b[39m │ \u001b[90mString\u001b[39m │ \u001b[90mInt64\u001b[39m │ \u001b[90mFloat64?\u001b[39m │\n",
       "├─────┼──────────┼────────┼────────┼───────┼──────────┤\n",
       "│ 1   │ 84070002 │ US     │ USA    │ 840   │ \u001b[90mmissing\u001b[39m  │\n",
       "│ 2   │ 84070003 │ US     │ USA    │ 840   │ \u001b[90mmissing\u001b[39m  │\n",
       "│ 3   │ 84070004 │ US     │ USA    │ 840   │ \u001b[90mmissing\u001b[39m  │\n",
       "│ 4   │ 84070005 │ US     │ USA    │ 840   │ \u001b[90mmissing\u001b[39m  │\n",
       "│ 5   │ 84070015 │ US     │ USA    │ 840   │ \u001b[90mmissing\u001b[39m  │\n",
       "│ 6   │ 84070016 │ US     │ USA    │ 840   │ \u001b[90mmissing\u001b[39m  │\n",
       "│ 7   │ 84070017 │ US     │ USA    │ 840   │ \u001b[90mmissing\u001b[39m  │\n",
       "│ 8   │ 84070018 │ US     │ USA    │ 840   │ \u001b[90mmissing\u001b[39m  │\n",
       "│ 9   │ 84070019 │ US     │ USA    │ 840   │ \u001b[90mmissing\u001b[39m  │\n",
       "│ 10  │ 84070020 │ US     │ USA    │ 840   │ \u001b[90mmissing\u001b[39m  │"
      ]
     },
     "execution_count": 11,
     "metadata": {},
     "output_type": "execute_result"
    }
   ],
   "source": [
    "last(covid19_us_confirmed, 10)"
   ]
  },
  {
   "cell_type": "code",
   "execution_count": 12,
   "metadata": {},
   "outputs": [
    {
     "data": {
      "text/plain": [
       "170-element Array{String,1}:\n",
       " \"UID\"\n",
       " \"iso2\"\n",
       " \"iso3\"\n",
       " \"code3\"\n",
       " \"FIPS\"\n",
       " \"Admin2\"\n",
       " \"Province_State\"\n",
       " \"Country_Region\"\n",
       " \"Lat\"\n",
       " \"Long_\"\n",
       " \"Combined_Key\"\n",
       " \"1/22/20\"\n",
       " \"1/23/20\"\n",
       " ⋮\n",
       " \"6/17/20\"\n",
       " \"6/18/20\"\n",
       " \"6/19/20\"\n",
       " \"6/20/20\"\n",
       " \"6/21/20\"\n",
       " \"6/22/20\"\n",
       " \"6/23/20\"\n",
       " \"6/24/20\"\n",
       " \"6/25/20\"\n",
       " \"6/26/20\"\n",
       " \"6/27/20\"\n",
       " \"6/28/20\""
      ]
     },
     "execution_count": 12,
     "metadata": {},
     "output_type": "execute_result"
    }
   ],
   "source": [
    "names(covid19_us_confirmed)"
   ]
  },
  {
   "cell_type": "code",
   "execution_count": 13,
   "metadata": {},
   "outputs": [
    {
     "name": "stderr",
     "output_type": "stream",
     "text": [
      "\u001b[32m\u001b[1m  Resolving\u001b[22m\u001b[39m package versions...\n",
      "\u001b[32m\u001b[1m   Updating\u001b[22m\u001b[39m `~/.julia/environments/v1.4/Project.toml`\n",
      "\u001b[90m [no changes]\u001b[39m\n",
      "\u001b[32m\u001b[1m   Updating\u001b[22m\u001b[39m `~/.julia/environments/v1.4/Manifest.toml`\n",
      "\u001b[90m [no changes]\u001b[39m\n"
     ]
    }
   ],
   "source": [
    "Pkg.add(\"DataFrames\")\n",
    "using DataFrames"
   ]
  },
  {
   "cell_type": "code",
   "execution_count": 14,
   "metadata": {
    "scrolled": true
   },
   "outputs": [
    {
     "name": "stderr",
     "output_type": "stream",
     "text": [
      "\u001b[32m\u001b[1m  Resolving\u001b[22m\u001b[39m package versions...\n",
      "\u001b[32m\u001b[1m   Updating\u001b[22m\u001b[39m `~/.julia/environments/v1.4/Project.toml`\n",
      "\u001b[90m [no changes]\u001b[39m\n",
      "\u001b[32m\u001b[1m   Updating\u001b[22m\u001b[39m `~/.julia/environments/v1.4/Manifest.toml`\n",
      "\u001b[90m [no changes]\u001b[39m\n"
     ]
    }
   ],
   "source": [
    "Pkg.add(\"TimeSeries\")\n",
    "using TimeSeries"
   ]
  }
 ],
 "metadata": {
  "kernelspec": {
   "display_name": "Julia 1.4.2",
   "language": "julia",
   "name": "julia-1.4"
  },
  "language_info": {
   "file_extension": ".jl",
   "mimetype": "application/julia",
   "name": "julia",
   "version": "1.4.2"
  }
 },
 "nbformat": 4,
 "nbformat_minor": 4
}
