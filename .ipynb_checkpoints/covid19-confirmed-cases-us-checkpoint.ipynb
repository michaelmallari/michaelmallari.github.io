{
 "cells": [
  {
   "cell_type": "code",
   "execution_count": 1,
   "metadata": {},
   "outputs": [
    {
     "data": {
      "text/plain": [
       "\"https://raw.githubusercontent.com/CSSEGISandData/COVID-19/master/csse_covid_19_data/csse_covid_19_time_series/time_series_covid19_confirmed_US.csv\""
      ]
     },
     "execution_count": 1,
     "metadata": {},
     "output_type": "execute_result"
    }
   ],
   "source": [
    "url = \"https://raw.githubusercontent.com/CSSEGISandData/COVID-19/master/csse_covid_19_data/csse_covid_19_time_series/time_series_covid19_confirmed_US.csv\""
   ]
  },
  {
   "cell_type": "code",
   "execution_count": 2,
   "metadata": {},
   "outputs": [
    {
     "data": {
      "text/plain": [
       "\"covid19ConfirmedCasesUS.csv\""
      ]
     },
     "execution_count": 2,
     "metadata": {},
     "output_type": "execute_result"
    }
   ],
   "source": [
    "download(url, \"covid19ConfirmedCasesUS.csv\")"
   ]
  },
  {
   "cell_type": "code",
   "execution_count": 3,
   "metadata": {},
   "outputs": [
    {
     "data": {
      "text/plain": [
       "19-element Array{String,1}:\n",
       " \".DS_Store\"\n",
       " \".git\"\n",
       " \".github\"\n",
       " \".gitignore\"\n",
       " \".gitlab-ci.yml\"\n",
       " \".idea\"\n",
       " \".ipynb_checkpoints\"\n",
       " \"__site\"\n",
       " \"_assets\"\n",
       " \"_css\"\n",
       " \"_layout\"\n",
       " \"_libs\"\n",
       " \"config.codekit3\"\n",
       " \"config.md\"\n",
       " \"covid19-confirmed-cases-us.ipynb\"\n",
       " \"covid19ConfirmedCasesUS.csv\"\n",
       " \"index.md\"\n",
       " \"intermediate-julia-programming-language.md\"\n",
       " \"introduction-julia-programming-language.md\""
      ]
     },
     "execution_count": 3,
     "metadata": {},
     "output_type": "execute_result"
    }
   ],
   "source": [
    "readdir()"
   ]
  },
  {
   "cell_type": "code",
   "execution_count": 4,
   "metadata": {},
   "outputs": [
    {
     "name": "stderr",
     "output_type": "stream",
     "text": [
      "\u001b[32m\u001b[1m   Updating\u001b[22m\u001b[39m registry at `~/.julia/registries/General`\n"
     ]
    },
    {
     "name": "stdout",
     "output_type": "stream",
     "text": [
      "\u001b[?25l\u001b[2K"
     ]
    },
    {
     "name": "stderr",
     "output_type": "stream",
     "text": [
      "\u001b[32m\u001b[1m   Updating\u001b[22m\u001b[39m git-repo `https://github.com/JuliaRegistries/General.git`\n"
     ]
    },
    {
     "name": "stdout",
     "output_type": "stream",
     "text": [
      "\u001b[?25h"
     ]
    },
    {
     "name": "stderr",
     "output_type": "stream",
     "text": [
      "\u001b[32m\u001b[1m  Resolving\u001b[22m\u001b[39m package versions...\n",
      "\u001b[32m\u001b[1m   Updating\u001b[22m\u001b[39m `~/.julia/environments/v1.4/Project.toml`\n",
      "\u001b[90m [no changes]\u001b[39m\n",
      "\u001b[32m\u001b[1m   Updating\u001b[22m\u001b[39m `~/.julia/environments/v1.4/Manifest.toml`\n",
      "\u001b[90m [no changes]\u001b[39m\n"
     ]
    }
   ],
   "source": [
    "using Pkg\n",
    "Pkg.add(\"CSV\")\n",
    "using CSV"
   ]
  },
  {
   "cell_type": "code",
   "execution_count": 6,
   "metadata": {},
   "outputs": [
    {
     "data": {
      "text/html": [
       "<table class=\"data-frame\"><thead><tr><th></th><th>UID</th><th>iso2</th><th>iso3</th><th>code3</th><th>FIPS</th><th>Admin2</th><th>Province_State</th></tr><tr><th></th><th>Int64</th><th>String</th><th>String</th><th>Int64</th><th>Float64⍰</th><th>String⍰</th><th>String</th></tr></thead><tbody><p>3,253 rows × 90 columns (omitted printing of 83 columns)</p><tr><th>1</th><td>16</td><td>AS</td><td>ASM</td><td>16</td><td>60.0</td><td>missing</td><td>American Samoa</td></tr><tr><th>2</th><td>316</td><td>GU</td><td>GUM</td><td>316</td><td>66.0</td><td>missing</td><td>Guam</td></tr><tr><th>3</th><td>580</td><td>MP</td><td>MNP</td><td>580</td><td>69.0</td><td>missing</td><td>Northern Mariana Islands</td></tr><tr><th>4</th><td>630</td><td>PR</td><td>PRI</td><td>630</td><td>72.0</td><td>missing</td><td>Puerto Rico</td></tr><tr><th>5</th><td>850</td><td>VI</td><td>VIR</td><td>850</td><td>78.0</td><td>missing</td><td>Virgin Islands</td></tr><tr><th>6</th><td>84001001</td><td>US</td><td>USA</td><td>840</td><td>1001.0</td><td>Autauga</td><td>Alabama</td></tr><tr><th>7</th><td>84001003</td><td>US</td><td>USA</td><td>840</td><td>1003.0</td><td>Baldwin</td><td>Alabama</td></tr><tr><th>8</th><td>84001005</td><td>US</td><td>USA</td><td>840</td><td>1005.0</td><td>Barbour</td><td>Alabama</td></tr><tr><th>9</th><td>84001007</td><td>US</td><td>USA</td><td>840</td><td>1007.0</td><td>Bibb</td><td>Alabama</td></tr><tr><th>10</th><td>84001009</td><td>US</td><td>USA</td><td>840</td><td>1009.0</td><td>Blount</td><td>Alabama</td></tr><tr><th>11</th><td>84001011</td><td>US</td><td>USA</td><td>840</td><td>1011.0</td><td>Bullock</td><td>Alabama</td></tr><tr><th>12</th><td>84001013</td><td>US</td><td>USA</td><td>840</td><td>1013.0</td><td>Butler</td><td>Alabama</td></tr><tr><th>13</th><td>84001015</td><td>US</td><td>USA</td><td>840</td><td>1015.0</td><td>Calhoun</td><td>Alabama</td></tr><tr><th>14</th><td>84001017</td><td>US</td><td>USA</td><td>840</td><td>1017.0</td><td>Chambers</td><td>Alabama</td></tr><tr><th>15</th><td>84001019</td><td>US</td><td>USA</td><td>840</td><td>1019.0</td><td>Cherokee</td><td>Alabama</td></tr><tr><th>16</th><td>84001021</td><td>US</td><td>USA</td><td>840</td><td>1021.0</td><td>Chilton</td><td>Alabama</td></tr><tr><th>17</th><td>84001023</td><td>US</td><td>USA</td><td>840</td><td>1023.0</td><td>Choctaw</td><td>Alabama</td></tr><tr><th>18</th><td>84001025</td><td>US</td><td>USA</td><td>840</td><td>1025.0</td><td>Clarke</td><td>Alabama</td></tr><tr><th>19</th><td>84001027</td><td>US</td><td>USA</td><td>840</td><td>1027.0</td><td>Clay</td><td>Alabama</td></tr><tr><th>20</th><td>84001029</td><td>US</td><td>USA</td><td>840</td><td>1029.0</td><td>Cleburne</td><td>Alabama</td></tr><tr><th>21</th><td>84001031</td><td>US</td><td>USA</td><td>840</td><td>1031.0</td><td>Coffee</td><td>Alabama</td></tr><tr><th>22</th><td>84001033</td><td>US</td><td>USA</td><td>840</td><td>1033.0</td><td>Colbert</td><td>Alabama</td></tr><tr><th>23</th><td>84001035</td><td>US</td><td>USA</td><td>840</td><td>1035.0</td><td>Conecuh</td><td>Alabama</td></tr><tr><th>24</th><td>84001037</td><td>US</td><td>USA</td><td>840</td><td>1037.0</td><td>Coosa</td><td>Alabama</td></tr><tr><th>25</th><td>84001039</td><td>US</td><td>USA</td><td>840</td><td>1039.0</td><td>Covington</td><td>Alabama</td></tr><tr><th>26</th><td>84001041</td><td>US</td><td>USA</td><td>840</td><td>1041.0</td><td>Crenshaw</td><td>Alabama</td></tr><tr><th>27</th><td>84001043</td><td>US</td><td>USA</td><td>840</td><td>1043.0</td><td>Cullman</td><td>Alabama</td></tr><tr><th>28</th><td>84001045</td><td>US</td><td>USA</td><td>840</td><td>1045.0</td><td>Dale</td><td>Alabama</td></tr><tr><th>29</th><td>84001047</td><td>US</td><td>USA</td><td>840</td><td>1047.0</td><td>Dallas</td><td>Alabama</td></tr><tr><th>30</th><td>84001049</td><td>US</td><td>USA</td><td>840</td><td>1049.0</td><td>DeKalb</td><td>Alabama</td></tr><tr><th>&vellip;</th><td>&vellip;</td><td>&vellip;</td><td>&vellip;</td><td>&vellip;</td><td>&vellip;</td><td>&vellip;</td><td>&vellip;</td></tr></tbody></table>"
      ],
      "text/latex": [
       "\\begin{tabular}{r|cccccccc}\n",
       "\t& UID & iso2 & iso3 & code3 & FIPS & Admin2 & Province\\_State & \\\\\n",
       "\t\\hline\n",
       "\t& Int64 & String & String & Int64 & Float64⍰ & String⍰ & String & \\\\\n",
       "\t\\hline\n",
       "\t1 & 16 & AS & ASM & 16 & 60.0 &  & American Samoa & $\\dots$ \\\\\n",
       "\t2 & 316 & GU & GUM & 316 & 66.0 &  & Guam & $\\dots$ \\\\\n",
       "\t3 & 580 & MP & MNP & 580 & 69.0 &  & Northern Mariana Islands & $\\dots$ \\\\\n",
       "\t4 & 630 & PR & PRI & 630 & 72.0 &  & Puerto Rico & $\\dots$ \\\\\n",
       "\t5 & 850 & VI & VIR & 850 & 78.0 &  & Virgin Islands & $\\dots$ \\\\\n",
       "\t6 & 84001001 & US & USA & 840 & 1001.0 & Autauga & Alabama & $\\dots$ \\\\\n",
       "\t7 & 84001003 & US & USA & 840 & 1003.0 & Baldwin & Alabama & $\\dots$ \\\\\n",
       "\t8 & 84001005 & US & USA & 840 & 1005.0 & Barbour & Alabama & $\\dots$ \\\\\n",
       "\t9 & 84001007 & US & USA & 840 & 1007.0 & Bibb & Alabama & $\\dots$ \\\\\n",
       "\t10 & 84001009 & US & USA & 840 & 1009.0 & Blount & Alabama & $\\dots$ \\\\\n",
       "\t11 & 84001011 & US & USA & 840 & 1011.0 & Bullock & Alabama & $\\dots$ \\\\\n",
       "\t12 & 84001013 & US & USA & 840 & 1013.0 & Butler & Alabama & $\\dots$ \\\\\n",
       "\t13 & 84001015 & US & USA & 840 & 1015.0 & Calhoun & Alabama & $\\dots$ \\\\\n",
       "\t14 & 84001017 & US & USA & 840 & 1017.0 & Chambers & Alabama & $\\dots$ \\\\\n",
       "\t15 & 84001019 & US & USA & 840 & 1019.0 & Cherokee & Alabama & $\\dots$ \\\\\n",
       "\t16 & 84001021 & US & USA & 840 & 1021.0 & Chilton & Alabama & $\\dots$ \\\\\n",
       "\t17 & 84001023 & US & USA & 840 & 1023.0 & Choctaw & Alabama & $\\dots$ \\\\\n",
       "\t18 & 84001025 & US & USA & 840 & 1025.0 & Clarke & Alabama & $\\dots$ \\\\\n",
       "\t19 & 84001027 & US & USA & 840 & 1027.0 & Clay & Alabama & $\\dots$ \\\\\n",
       "\t20 & 84001029 & US & USA & 840 & 1029.0 & Cleburne & Alabama & $\\dots$ \\\\\n",
       "\t21 & 84001031 & US & USA & 840 & 1031.0 & Coffee & Alabama & $\\dots$ \\\\\n",
       "\t22 & 84001033 & US & USA & 840 & 1033.0 & Colbert & Alabama & $\\dots$ \\\\\n",
       "\t23 & 84001035 & US & USA & 840 & 1035.0 & Conecuh & Alabama & $\\dots$ \\\\\n",
       "\t24 & 84001037 & US & USA & 840 & 1037.0 & Coosa & Alabama & $\\dots$ \\\\\n",
       "\t25 & 84001039 & US & USA & 840 & 1039.0 & Covington & Alabama & $\\dots$ \\\\\n",
       "\t26 & 84001041 & US & USA & 840 & 1041.0 & Crenshaw & Alabama & $\\dots$ \\\\\n",
       "\t27 & 84001043 & US & USA & 840 & 1043.0 & Cullman & Alabama & $\\dots$ \\\\\n",
       "\t28 & 84001045 & US & USA & 840 & 1045.0 & Dale & Alabama & $\\dots$ \\\\\n",
       "\t29 & 84001047 & US & USA & 840 & 1047.0 & Dallas & Alabama & $\\dots$ \\\\\n",
       "\t30 & 84001049 & US & USA & 840 & 1049.0 & DeKalb & Alabama & $\\dots$ \\\\\n",
       "\t$\\dots$ & $\\dots$ & $\\dots$ & $\\dots$ & $\\dots$ & $\\dots$ & $\\dots$ & $\\dots$ &  \\\\\n",
       "\\end{tabular}\n"
      ],
      "text/plain": [
       "3253×90 DataFrames.DataFrame. Omitted printing of 84 columns\n",
       "│ Row  │ UID      │ iso2   │ iso3   │ code3 │ FIPS     │ Admin2     │\n",
       "│      │ \u001b[90mInt64\u001b[39m    │ \u001b[90mString\u001b[39m │ \u001b[90mString\u001b[39m │ \u001b[90mInt64\u001b[39m │ \u001b[90mFloat64⍰\u001b[39m │ \u001b[90mString⍰\u001b[39m    │\n",
       "├──────┼──────────┼────────┼────────┼───────┼──────────┼────────────┤\n",
       "│ 1    │ 16       │ AS     │ ASM    │ 16    │ 60.0     │ \u001b[90mmissing\u001b[39m    │\n",
       "│ 2    │ 316      │ GU     │ GUM    │ 316   │ 66.0     │ \u001b[90mmissing\u001b[39m    │\n",
       "│ 3    │ 580      │ MP     │ MNP    │ 580   │ 69.0     │ \u001b[90mmissing\u001b[39m    │\n",
       "│ 4    │ 630      │ PR     │ PRI    │ 630   │ 72.0     │ \u001b[90mmissing\u001b[39m    │\n",
       "│ 5    │ 850      │ VI     │ VIR    │ 850   │ 78.0     │ \u001b[90mmissing\u001b[39m    │\n",
       "│ 6    │ 84001001 │ US     │ USA    │ 840   │ 1001.0   │ Autauga    │\n",
       "│ 7    │ 84001003 │ US     │ USA    │ 840   │ 1003.0   │ Baldwin    │\n",
       "│ 8    │ 84001005 │ US     │ USA    │ 840   │ 1005.0   │ Barbour    │\n",
       "│ 9    │ 84001007 │ US     │ USA    │ 840   │ 1007.0   │ Bibb       │\n",
       "│ 10   │ 84001009 │ US     │ USA    │ 840   │ 1009.0   │ Blount     │\n",
       "⋮\n",
       "│ 3243 │ 84090046 │ US     │ USA    │ 840   │ 90046.0  │ Unassigned │\n",
       "│ 3244 │ 84090047 │ US     │ USA    │ 840   │ 90047.0  │ Unassigned │\n",
       "│ 3245 │ 84090048 │ US     │ USA    │ 840   │ 90048.0  │ Unassigned │\n",
       "│ 3246 │ 84090049 │ US     │ USA    │ 840   │ 90049.0  │ Unassigned │\n",
       "│ 3247 │ 84090050 │ US     │ USA    │ 840   │ 90050.0  │ Unassigned │\n",
       "│ 3248 │ 84090051 │ US     │ USA    │ 840   │ 90051.0  │ Unassigned │\n",
       "│ 3249 │ 84090053 │ US     │ USA    │ 840   │ 90053.0  │ Unassigned │\n",
       "│ 3250 │ 84090054 │ US     │ USA    │ 840   │ 90054.0  │ Unassigned │\n",
       "│ 3251 │ 84090055 │ US     │ USA    │ 840   │ 90055.0  │ Unassigned │\n",
       "│ 3252 │ 84090056 │ US     │ USA    │ 840   │ 90056.0  │ Unassigned │\n",
       "│ 3253 │ 84099999 │ US     │ USA    │ 840   │ 99999.0  │ \u001b[90mmissing\u001b[39m    │"
      ]
     },
     "execution_count": 6,
     "metadata": {},
     "output_type": "execute_result"
    }
   ],
   "source": [
    "covid19ConfirmedCasesUS = CSV.read(\"covid19ConfirmedCasesUS.csv\")"
   ]
  },
  {
   "cell_type": "code",
   "execution_count": 7,
   "metadata": {},
   "outputs": [
    {
     "data": {
      "text/html": [
       "<table class=\"data-frame\"><thead><tr><th></th><th>UID</th><th>iso2</th><th>iso3</th><th>code3</th><th>FIPS</th><th>Admin2</th><th>Province_State</th></tr><tr><th></th><th>Int64</th><th>String</th><th>String</th><th>Int64</th><th>Float64⍰</th><th>String⍰</th><th>String</th></tr></thead><tbody><p>3,253 rows × 90 columns (omitted printing of 83 columns)</p><tr><th>1</th><td>16</td><td>AS</td><td>ASM</td><td>16</td><td>60.0</td><td>missing</td><td>American Samoa</td></tr><tr><th>2</th><td>316</td><td>GU</td><td>GUM</td><td>316</td><td>66.0</td><td>missing</td><td>Guam</td></tr><tr><th>3</th><td>580</td><td>MP</td><td>MNP</td><td>580</td><td>69.0</td><td>missing</td><td>Northern Mariana Islands</td></tr><tr><th>4</th><td>630</td><td>PR</td><td>PRI</td><td>630</td><td>72.0</td><td>missing</td><td>Puerto Rico</td></tr><tr><th>5</th><td>850</td><td>VI</td><td>VIR</td><td>850</td><td>78.0</td><td>missing</td><td>Virgin Islands</td></tr><tr><th>6</th><td>84001001</td><td>US</td><td>USA</td><td>840</td><td>1001.0</td><td>Autauga</td><td>Alabama</td></tr><tr><th>7</th><td>84001003</td><td>US</td><td>USA</td><td>840</td><td>1003.0</td><td>Baldwin</td><td>Alabama</td></tr><tr><th>8</th><td>84001005</td><td>US</td><td>USA</td><td>840</td><td>1005.0</td><td>Barbour</td><td>Alabama</td></tr><tr><th>9</th><td>84001007</td><td>US</td><td>USA</td><td>840</td><td>1007.0</td><td>Bibb</td><td>Alabama</td></tr><tr><th>10</th><td>84001009</td><td>US</td><td>USA</td><td>840</td><td>1009.0</td><td>Blount</td><td>Alabama</td></tr><tr><th>11</th><td>84001011</td><td>US</td><td>USA</td><td>840</td><td>1011.0</td><td>Bullock</td><td>Alabama</td></tr><tr><th>12</th><td>84001013</td><td>US</td><td>USA</td><td>840</td><td>1013.0</td><td>Butler</td><td>Alabama</td></tr><tr><th>13</th><td>84001015</td><td>US</td><td>USA</td><td>840</td><td>1015.0</td><td>Calhoun</td><td>Alabama</td></tr><tr><th>14</th><td>84001017</td><td>US</td><td>USA</td><td>840</td><td>1017.0</td><td>Chambers</td><td>Alabama</td></tr><tr><th>15</th><td>84001019</td><td>US</td><td>USA</td><td>840</td><td>1019.0</td><td>Cherokee</td><td>Alabama</td></tr><tr><th>16</th><td>84001021</td><td>US</td><td>USA</td><td>840</td><td>1021.0</td><td>Chilton</td><td>Alabama</td></tr><tr><th>17</th><td>84001023</td><td>US</td><td>USA</td><td>840</td><td>1023.0</td><td>Choctaw</td><td>Alabama</td></tr><tr><th>18</th><td>84001025</td><td>US</td><td>USA</td><td>840</td><td>1025.0</td><td>Clarke</td><td>Alabama</td></tr><tr><th>19</th><td>84001027</td><td>US</td><td>USA</td><td>840</td><td>1027.0</td><td>Clay</td><td>Alabama</td></tr><tr><th>20</th><td>84001029</td><td>US</td><td>USA</td><td>840</td><td>1029.0</td><td>Cleburne</td><td>Alabama</td></tr><tr><th>21</th><td>84001031</td><td>US</td><td>USA</td><td>840</td><td>1031.0</td><td>Coffee</td><td>Alabama</td></tr><tr><th>22</th><td>84001033</td><td>US</td><td>USA</td><td>840</td><td>1033.0</td><td>Colbert</td><td>Alabama</td></tr><tr><th>23</th><td>84001035</td><td>US</td><td>USA</td><td>840</td><td>1035.0</td><td>Conecuh</td><td>Alabama</td></tr><tr><th>24</th><td>84001037</td><td>US</td><td>USA</td><td>840</td><td>1037.0</td><td>Coosa</td><td>Alabama</td></tr><tr><th>25</th><td>84001039</td><td>US</td><td>USA</td><td>840</td><td>1039.0</td><td>Covington</td><td>Alabama</td></tr><tr><th>26</th><td>84001041</td><td>US</td><td>USA</td><td>840</td><td>1041.0</td><td>Crenshaw</td><td>Alabama</td></tr><tr><th>27</th><td>84001043</td><td>US</td><td>USA</td><td>840</td><td>1043.0</td><td>Cullman</td><td>Alabama</td></tr><tr><th>28</th><td>84001045</td><td>US</td><td>USA</td><td>840</td><td>1045.0</td><td>Dale</td><td>Alabama</td></tr><tr><th>29</th><td>84001047</td><td>US</td><td>USA</td><td>840</td><td>1047.0</td><td>Dallas</td><td>Alabama</td></tr><tr><th>30</th><td>84001049</td><td>US</td><td>USA</td><td>840</td><td>1049.0</td><td>DeKalb</td><td>Alabama</td></tr><tr><th>&vellip;</th><td>&vellip;</td><td>&vellip;</td><td>&vellip;</td><td>&vellip;</td><td>&vellip;</td><td>&vellip;</td><td>&vellip;</td></tr></tbody></table>"
      ],
      "text/latex": [
       "\\begin{tabular}{r|cccccccc}\n",
       "\t& UID & iso2 & iso3 & code3 & FIPS & Admin2 & Province\\_State & \\\\\n",
       "\t\\hline\n",
       "\t& Int64 & String & String & Int64 & Float64⍰ & String⍰ & String & \\\\\n",
       "\t\\hline\n",
       "\t1 & 16 & AS & ASM & 16 & 60.0 &  & American Samoa & $\\dots$ \\\\\n",
       "\t2 & 316 & GU & GUM & 316 & 66.0 &  & Guam & $\\dots$ \\\\\n",
       "\t3 & 580 & MP & MNP & 580 & 69.0 &  & Northern Mariana Islands & $\\dots$ \\\\\n",
       "\t4 & 630 & PR & PRI & 630 & 72.0 &  & Puerto Rico & $\\dots$ \\\\\n",
       "\t5 & 850 & VI & VIR & 850 & 78.0 &  & Virgin Islands & $\\dots$ \\\\\n",
       "\t6 & 84001001 & US & USA & 840 & 1001.0 & Autauga & Alabama & $\\dots$ \\\\\n",
       "\t7 & 84001003 & US & USA & 840 & 1003.0 & Baldwin & Alabama & $\\dots$ \\\\\n",
       "\t8 & 84001005 & US & USA & 840 & 1005.0 & Barbour & Alabama & $\\dots$ \\\\\n",
       "\t9 & 84001007 & US & USA & 840 & 1007.0 & Bibb & Alabama & $\\dots$ \\\\\n",
       "\t10 & 84001009 & US & USA & 840 & 1009.0 & Blount & Alabama & $\\dots$ \\\\\n",
       "\t11 & 84001011 & US & USA & 840 & 1011.0 & Bullock & Alabama & $\\dots$ \\\\\n",
       "\t12 & 84001013 & US & USA & 840 & 1013.0 & Butler & Alabama & $\\dots$ \\\\\n",
       "\t13 & 84001015 & US & USA & 840 & 1015.0 & Calhoun & Alabama & $\\dots$ \\\\\n",
       "\t14 & 84001017 & US & USA & 840 & 1017.0 & Chambers & Alabama & $\\dots$ \\\\\n",
       "\t15 & 84001019 & US & USA & 840 & 1019.0 & Cherokee & Alabama & $\\dots$ \\\\\n",
       "\t16 & 84001021 & US & USA & 840 & 1021.0 & Chilton & Alabama & $\\dots$ \\\\\n",
       "\t17 & 84001023 & US & USA & 840 & 1023.0 & Choctaw & Alabama & $\\dots$ \\\\\n",
       "\t18 & 84001025 & US & USA & 840 & 1025.0 & Clarke & Alabama & $\\dots$ \\\\\n",
       "\t19 & 84001027 & US & USA & 840 & 1027.0 & Clay & Alabama & $\\dots$ \\\\\n",
       "\t20 & 84001029 & US & USA & 840 & 1029.0 & Cleburne & Alabama & $\\dots$ \\\\\n",
       "\t21 & 84001031 & US & USA & 840 & 1031.0 & Coffee & Alabama & $\\dots$ \\\\\n",
       "\t22 & 84001033 & US & USA & 840 & 1033.0 & Colbert & Alabama & $\\dots$ \\\\\n",
       "\t23 & 84001035 & US & USA & 840 & 1035.0 & Conecuh & Alabama & $\\dots$ \\\\\n",
       "\t24 & 84001037 & US & USA & 840 & 1037.0 & Coosa & Alabama & $\\dots$ \\\\\n",
       "\t25 & 84001039 & US & USA & 840 & 1039.0 & Covington & Alabama & $\\dots$ \\\\\n",
       "\t26 & 84001041 & US & USA & 840 & 1041.0 & Crenshaw & Alabama & $\\dots$ \\\\\n",
       "\t27 & 84001043 & US & USA & 840 & 1043.0 & Cullman & Alabama & $\\dots$ \\\\\n",
       "\t28 & 84001045 & US & USA & 840 & 1045.0 & Dale & Alabama & $\\dots$ \\\\\n",
       "\t29 & 84001047 & US & USA & 840 & 1047.0 & Dallas & Alabama & $\\dots$ \\\\\n",
       "\t30 & 84001049 & US & USA & 840 & 1049.0 & DeKalb & Alabama & $\\dots$ \\\\\n",
       "\t$\\dots$ & $\\dots$ & $\\dots$ & $\\dots$ & $\\dots$ & $\\dots$ & $\\dots$ & $\\dots$ &  \\\\\n",
       "\\end{tabular}\n"
      ],
      "text/plain": [
       "3253×90 DataFrames.DataFrame. Omitted printing of 84 columns\n",
       "│ Row  │ UID      │ iso2   │ iso3   │ code3 │ FIPS     │ Admin2     │\n",
       "│      │ \u001b[90mInt64\u001b[39m    │ \u001b[90mString\u001b[39m │ \u001b[90mString\u001b[39m │ \u001b[90mInt64\u001b[39m │ \u001b[90mFloat64⍰\u001b[39m │ \u001b[90mString⍰\u001b[39m    │\n",
       "├──────┼──────────┼────────┼────────┼───────┼──────────┼────────────┤\n",
       "│ 1    │ 16       │ AS     │ ASM    │ 16    │ 60.0     │ \u001b[90mmissing\u001b[39m    │\n",
       "│ 2    │ 316      │ GU     │ GUM    │ 316   │ 66.0     │ \u001b[90mmissing\u001b[39m    │\n",
       "│ 3    │ 580      │ MP     │ MNP    │ 580   │ 69.0     │ \u001b[90mmissing\u001b[39m    │\n",
       "│ 4    │ 630      │ PR     │ PRI    │ 630   │ 72.0     │ \u001b[90mmissing\u001b[39m    │\n",
       "│ 5    │ 850      │ VI     │ VIR    │ 850   │ 78.0     │ \u001b[90mmissing\u001b[39m    │\n",
       "│ 6    │ 84001001 │ US     │ USA    │ 840   │ 1001.0   │ Autauga    │\n",
       "│ 7    │ 84001003 │ US     │ USA    │ 840   │ 1003.0   │ Baldwin    │\n",
       "│ 8    │ 84001005 │ US     │ USA    │ 840   │ 1005.0   │ Barbour    │\n",
       "│ 9    │ 84001007 │ US     │ USA    │ 840   │ 1007.0   │ Bibb       │\n",
       "│ 10   │ 84001009 │ US     │ USA    │ 840   │ 1009.0   │ Blount     │\n",
       "⋮\n",
       "│ 3243 │ 84090046 │ US     │ USA    │ 840   │ 90046.0  │ Unassigned │\n",
       "│ 3244 │ 84090047 │ US     │ USA    │ 840   │ 90047.0  │ Unassigned │\n",
       "│ 3245 │ 84090048 │ US     │ USA    │ 840   │ 90048.0  │ Unassigned │\n",
       "│ 3246 │ 84090049 │ US     │ USA    │ 840   │ 90049.0  │ Unassigned │\n",
       "│ 3247 │ 84090050 │ US     │ USA    │ 840   │ 90050.0  │ Unassigned │\n",
       "│ 3248 │ 84090051 │ US     │ USA    │ 840   │ 90051.0  │ Unassigned │\n",
       "│ 3249 │ 84090053 │ US     │ USA    │ 840   │ 90053.0  │ Unassigned │\n",
       "│ 3250 │ 84090054 │ US     │ USA    │ 840   │ 90054.0  │ Unassigned │\n",
       "│ 3251 │ 84090055 │ US     │ USA    │ 840   │ 90055.0  │ Unassigned │\n",
       "│ 3252 │ 84090056 │ US     │ USA    │ 840   │ 90056.0  │ Unassigned │\n",
       "│ 3253 │ 84099999 │ US     │ USA    │ 840   │ 99999.0  │ \u001b[90mmissing\u001b[39m    │"
      ]
     },
     "execution_count": 7,
     "metadata": {},
     "output_type": "execute_result"
    }
   ],
   "source": [
    "covid19ConfirmedCasesUS"
   ]
  },
  {
   "cell_type": "code",
   "execution_count": null,
   "metadata": {},
   "outputs": [],
   "source": []
  }
 ],
 "metadata": {
  "kernelspec": {
   "display_name": "Julia 1.4.0",
   "language": "julia",
   "name": "julia-1.4"
  },
  "language_info": {
   "file_extension": ".jl",
   "mimetype": "application/julia",
   "name": "julia",
   "version": "1.4.0"
  }
 },
 "nbformat": 4,
 "nbformat_minor": 4
}
